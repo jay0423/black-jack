{
 "cells": [
  {
   "cell_type": "code",
   "execution_count": 4,
   "metadata": {},
   "outputs": [],
   "source": [
    "import numpy as np\n",
    "import pandas as pd\n",
    "import matplotlib.pyplot as plt\n",
    "%matplotlib inline"
   ]
  },
  {
   "cell_type": "code",
   "execution_count": 5,
   "metadata": {},
   "outputs": [],
   "source": [
    "import os\n",
    "import sys\n",
    "#\"\"..\"からimportできなかったため，パスを追加．\n",
    "module_path = os.path.abspath(os.path.join('../analysis'))\n",
    "if module_path not in sys.path:\n",
    "    sys.path.append(module_path)\n",
    "\n",
    "import analysis_black_jack as abj\n",
    "import make_dataframe as md"
   ]
  },
  {
   "cell_type": "code",
   "execution_count": 6,
   "metadata": {},
   "outputs": [
    {
     "name": "stderr",
     "output_type": "stream",
     "text": [
      "100%|████████████████████████████████████████████████████████████████████████████████████████████████████████████| 100000/100000 [00:02<00:00, 38691.77it/s]\n"
     ]
    },
    {
     "name": "stdout",
     "output_type": "stream",
     "text": [
      "DataFrameを作成\n",
      "Wall time: 3.14 s\n"
     ]
    }
   ],
   "source": [
    "%%time\n",
    "a = md.MakeDataFrame(100000, 6, True, 100)\n",
    "df = a.main()"
   ]
  },
  {
   "cell_type": "code",
   "execution_count": 7,
   "metadata": {},
   "outputs": [
    {
     "data": {
      "text/plain": [
       "split\n",
       "0    97376\n",
       "1     2331\n",
       "2      251\n",
       "3       31\n",
       "4       10\n",
       "5        1\n",
       "Name: get_coin, dtype: int64"
      ]
     },
     "execution_count": 7,
     "metadata": {},
     "output_type": "execute_result"
    }
   ],
   "source": [
    "#スプリット回数を算出\n",
    "df.groupby(\"split\")[\"get_coin\"].count()"
   ]
  },
  {
   "cell_type": "code",
   "execution_count": 8,
   "metadata": {},
   "outputs": [
    {
     "data": {
      "text/plain": [
       "split\n",
       "0    97.376\n",
       "1     2.331\n",
       "2     0.251\n",
       "3     0.031\n",
       "4     0.010\n",
       "5     0.001\n",
       "Name: get_coin, dtype: float64"
      ]
     },
     "execution_count": 8,
     "metadata": {},
     "output_type": "execute_result"
    }
   ],
   "source": [
    "#スプリットの回数別発生率\n",
    "df.groupby(\"split\")[\"get_coin\"].count().map(lambda x: x/len(df)*100)"
   ]
  },
  {
   "cell_type": "code",
   "execution_count": 9,
   "metadata": {},
   "outputs": [
    {
     "data": {
      "text/plain": [
       "<AxesSubplot:xlabel='split'>"
      ]
     },
     "execution_count": 9,
     "metadata": {},
     "output_type": "execute_result"
    },
    {
     "data": {
      "image/png": "[encoded data removed]",
      "text/plain": [
       "<Figure size 432x288 with 1 Axes>"
      ]
     },
     "metadata": {
      "needs_background": "light"
     },
     "output_type": "display_data"
    }
   ],
   "source": [
    "df.groupby(\"split\")[\"get_coin\"].count().map(lambda x: x/len(df)*100).plot.bar()"
   ]
  },
  {
   "cell_type": "code",
   "execution_count": 10,
   "metadata": {},
   "outputs": [
    {
     "name": "stdout",
     "output_type": "stream",
     "text": [
      "split\n",
      "0   -564.5\n",
      "1    281.0\n",
      "2     -5.0\n",
      "3     -6.0\n",
      "4     -2.0\n",
      "5      6.0\n",
      "Name: get_coin, dtype: float64\n"
     ]
    },
    {
     "data": {
      "text/plain": [
       "<AxesSubplot:xlabel='split'>"
      ]
     },
     "execution_count": 10,
     "metadata": {},
     "output_type": "execute_result"
    },
    {
     "data": {
      "image/png": "[encoded data removed]",
      "text/plain": [
       "<Figure size 432x288 with 1 Axes>"
      ]
     },
     "metadata": {
      "needs_background": "light"
     },
     "output_type": "display_data"
    }
   ],
   "source": [
    "#スプリットした際の勝ち金\n",
    "print(df.groupby(\"split\")[\"get_coin\"].sum())\n",
    "df.groupby(\"split\")[\"get_coin\"].sum().plot.bar()"
   ]
  },
  {
   "cell_type": "code",
   "execution_count": 11,
   "metadata": {},
   "outputs": [
    {
     "data": {
      "text/plain": [
       "split\n",
       "0     49.420\n",
       "1     62.055\n",
       "2     48.008\n",
       "3     30.645\n",
       "4     30.000\n",
       "5    650.000\n",
       "Name: get_coin, dtype: float64"
      ]
     },
     "execution_count": 11,
     "metadata": {},
     "output_type": "execute_result"
    }
   ],
   "source": [
    "#スプリット別の勝率を算出\n",
    "def func(x):\n",
    "    return round(x.sum() / len(x), 5) * 100 + 50\n",
    "df.groupby(\"split\")[\"get_coin\"].apply(func)"
   ]
  },
  {
   "cell_type": "code",
   "execution_count": 12,
   "metadata": {},
   "outputs": [
    {
     "data": {
      "image/png": "[encoded data removed]",
      "text/plain": [
       "<Figure size 432x288 with 1 Axes>"
      ]
     },
     "metadata": {
      "needs_background": "light"
     },
     "output_type": "display_data"
    }
   ],
   "source": [
    "#スプリット回数別の勝率の可視化\n",
    "fig, ax = plt.subplots()\n",
    "df2 = df[df[\"split\"]<=5].groupby(\"split\")[\"get_coin\"].apply(func)\n",
    "x = df2.index\n",
    "y = df2.values\n",
    "rect = ax.bar(x, y)\n",
    "ax.set_xticks(x)\n",
    "def autolabel(rects):\n",
    "    for rect in rects:\n",
    "        height = rect.get_height()\n",
    "        ax.annotate('{}'.format(height),\n",
    "                   xy=(rect.get_x() + rect.get_width() / 2, height),\n",
    "                   xytext=(0, 3),\n",
    "                   textcoords=\"offset points\",\n",
    "                   ha='center', va='bottom')\n",
    "autolabel(rect)\n",
    "ax.set_ylim(0, 100) \n",
    "plt.show()"
   ]
  },
  {
   "cell_type": "code",
   "execution_count": 13,
   "metadata": {},
   "outputs": [
    {
     "data": {
      "text/html": [
       "<div>\n",
       "<style scoped>\n",
       "    .dataframe tbody tr th:only-of-type {\n",
       "        vertical-align: middle;\n",
       "    }\n",
       "\n",
       "    .dataframe tbody tr th {\n",
       "        vertical-align: top;\n",
       "    }\n",
       "\n",
       "    .dataframe thead th {\n",
       "        text-align: right;\n",
       "    }\n",
       "</style>\n",
       "<table border=\"1\" class=\"dataframe\">\n",
       "  <thead>\n",
       "    <tr style=\"text-align: right;\">\n",
       "      <th></th>\n",
       "      <th>player_card</th>\n",
       "      <th>dealer_card</th>\n",
       "      <th>player_score</th>\n",
       "      <th>dealer_score</th>\n",
       "      <th>player_WL</th>\n",
       "      <th>bet_chip</th>\n",
       "      <th>play_counts</th>\n",
       "      <th>get_coin</th>\n",
       "      <th>first_PC</th>\n",
       "      <th>first_DC</th>\n",
       "      <th>split</th>\n",
       "      <th>split_TF</th>\n",
       "    </tr>\n",
       "  </thead>\n",
       "  <tbody>\n",
       "    <tr>\n",
       "      <th>0</th>\n",
       "      <td>[[2♥, 7♠]]</td>\n",
       "      <td>[A♥, Q♠]</td>\n",
       "      <td>[19]</td>\n",
       "      <td>21</td>\n",
       "      <td>[LOSE]</td>\n",
       "      <td>[1]</td>\n",
       "      <td>1</td>\n",
       "      <td>-1.0</td>\n",
       "      <td>9</td>\n",
       "      <td>10</td>\n",
       "      <td>0</td>\n",
       "      <td>False</td>\n",
       "    </tr>\n",
       "    <tr>\n",
       "      <th>1</th>\n",
       "      <td>[[Q♦, Q♣]]</td>\n",
       "      <td>[4♣, J♣, 4♦]</td>\n",
       "      <td>[20]</td>\n",
       "      <td>18</td>\n",
       "      <td>[WIN]</td>\n",
       "      <td>[1]</td>\n",
       "      <td>2</td>\n",
       "      <td>1.0</td>\n",
       "      <td>1010</td>\n",
       "      <td>10</td>\n",
       "      <td>0</td>\n",
       "      <td>False</td>\n",
       "    </tr>\n",
       "    <tr>\n",
       "      <th>2</th>\n",
       "      <td>[[10♠, Q♥]]</td>\n",
       "      <td>[7♥, 5♥, J♠]</td>\n",
       "      <td>[20]</td>\n",
       "      <td>BUST</td>\n",
       "      <td>[WIN]</td>\n",
       "      <td>[1]</td>\n",
       "      <td>3</td>\n",
       "      <td>1.0</td>\n",
       "      <td>1010</td>\n",
       "      <td>5</td>\n",
       "      <td>0</td>\n",
       "      <td>False</td>\n",
       "    </tr>\n",
       "    <tr>\n",
       "      <th>3</th>\n",
       "      <td>[[10♦, 8♣]]</td>\n",
       "      <td>[4♥, 8♥, 3♣, 2♠]</td>\n",
       "      <td>[18]</td>\n",
       "      <td>17</td>\n",
       "      <td>[WIN]</td>\n",
       "      <td>[1]</td>\n",
       "      <td>4</td>\n",
       "      <td>1.0</td>\n",
       "      <td>17:</td>\n",
       "      <td>8</td>\n",
       "      <td>0</td>\n",
       "      <td>False</td>\n",
       "    </tr>\n",
       "    <tr>\n",
       "      <th>4</th>\n",
       "      <td>[[8♣, K♣]]</td>\n",
       "      <td>[9♣, 3♥, 6♥]</td>\n",
       "      <td>[18]</td>\n",
       "      <td>18</td>\n",
       "      <td>[PUSH]</td>\n",
       "      <td>[1]</td>\n",
       "      <td>5</td>\n",
       "      <td>0.0</td>\n",
       "      <td>17:</td>\n",
       "      <td>3</td>\n",
       "      <td>0</td>\n",
       "      <td>False</td>\n",
       "    </tr>\n",
       "  </tbody>\n",
       "</table>\n",
       "</div>"
      ],
      "text/plain": [
       "   player_card       dealer_card player_score dealer_score player_WL bet_chip  \\\n",
       "0   [[2♥, 7♠]]          [A♥, Q♠]         [19]           21    [LOSE]      [1]   \n",
       "1   [[Q♦, Q♣]]      [4♣, J♣, 4♦]         [20]           18     [WIN]      [1]   \n",
       "2  [[10♠, Q♥]]      [7♥, 5♥, J♠]         [20]         BUST     [WIN]      [1]   \n",
       "3  [[10♦, 8♣]]  [4♥, 8♥, 3♣, 2♠]         [18]           17     [WIN]      [1]   \n",
       "4   [[8♣, K♣]]      [9♣, 3♥, 6♥]         [18]           18    [PUSH]      [1]   \n",
       "\n",
       "   play_counts  get_coin first_PC first_DC  split  split_TF  \n",
       "0            1      -1.0        9       10      0     False  \n",
       "1            2       1.0     1010       10      0     False  \n",
       "2            3       1.0     1010        5      0     False  \n",
       "3            4       1.0      17:        8      0     False  \n",
       "4            5       0.0      17:        3      0     False  "
      ]
     },
     "execution_count": 13,
     "metadata": {},
     "output_type": "execute_result"
    }
   ],
   "source": [
    "def func2(x):\n",
    "    if x == 0:\n",
    "        return False\n",
    "    else:\n",
    "        return True\n",
    "df[\"split_TF\"] = df[\"split\"].map(func2)\n",
    "df.head()"
   ]
  },
  {
   "cell_type": "code",
   "execution_count": 14,
   "metadata": {},
   "outputs": [
    {
     "name": "stdout",
     "output_type": "stream",
     "text": [
      "split_TF\n",
      "False    49.420\n",
      "True     60.442\n",
      "Name: get_coin, dtype: float64\n"
     ]
    },
    {
     "data": {
      "image/png": "[encoded data removed]",
      "text/plain": [
       "<Figure size 432x288 with 1 Axes>"
      ]
     },
     "metadata": {
      "needs_background": "light"
     },
     "output_type": "display_data"
    }
   ],
   "source": [
    "#スプリットの有無における勝率の可視化\n",
    "fig, ax = plt.subplots()\n",
    "df2 = df.groupby(\"split_TF\")[\"get_coin\"].apply(func)\n",
    "print(df2)\n",
    "x = [0, 1]\n",
    "y = df2.values\n",
    "rect = ax.bar(x, y)\n",
    "ax.set_xticks(x)\n",
    "labels = [\"no split\", \"split\"]\n",
    "ax.set_xticklabels(labels)\n",
    "def autolabel(rects):\n",
    "    for rect in rects:\n",
    "        height = rect.get_height()\n",
    "        ax.annotate('{}'.format(height),\n",
    "                   xy=(rect.get_x() + rect.get_width() / 2, height),\n",
    "                   xytext=(0, 3),\n",
    "                   textcoords=\"offset points\",\n",
    "                   ha='center', va='bottom')\n",
    "autolabel(rect)\n",
    "ax.set_ylim(0, 100) \n",
    "plt.show()"
   ]
  },
  {
   "cell_type": "markdown",
   "metadata": {},
   "source": [
    "## スプリットした場合の勝率は高い．"
   ]
  }
 ],
 "metadata": {
  "kernelspec": {
   "display_name": "Python 3",
   "language": "python",
   "name": "python3"
  },
  "language_info": {
   "codemirror_mode": {
    "name": "ipython",
    "version": 3
   },
   "file_extension": ".py",
   "mimetype": "text/x-python",
   "name": "python",
   "nbconvert_exporter": "python",
   "pygments_lexer": "ipython3",
   "version": "3.8.5"
  }
 },
 "nbformat": 4,
 "nbformat_minor": 4
}
